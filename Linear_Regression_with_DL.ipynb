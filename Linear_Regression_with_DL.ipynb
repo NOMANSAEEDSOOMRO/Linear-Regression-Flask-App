{
  "nbformat": 4,
  "nbformat_minor": 0,
  "metadata": {
    "colab": {
      "name": "Linear Regression using DL.ipynb",
      "provenance": []
    },
    "kernelspec": {
      "name": "python3",
      "display_name": "Python 3"
    },
    "language_info": {
      "name": "python"
    }
  },
  "cells": [
    {
      "cell_type": "code",
      "metadata": {
        "id": "YCaFHVQHx2dx"
      },
      "source": [
        "import pandas as pd\n",
        "import numpy as np\n",
        "import matplotlib.pyplot as plt"
      ],
      "execution_count": 1,
      "outputs": []
    },
    {
      "cell_type": "code",
      "metadata": {
        "id": "SLxWPlmByF85"
      },
      "source": [
        "df=pd.read_csv('/content/weight-height.csv')"
      ],
      "execution_count": 2,
      "outputs": []
    },
    {
      "cell_type": "code",
      "metadata": {
        "id": "Tjhwa6jiyMzQ"
      },
      "source": [
        "x=df[['Height']].values\n",
        "y=df[['Weight']].values"
      ],
      "execution_count": 6,
      "outputs": []
    },
    {
      "cell_type": "code",
      "metadata": {
        "colab": {
          "base_uri": "https://localhost:8080/",
          "height": 282
        },
        "id": "szrCuKhUCQsr",
        "outputId": "cbe83671-08aa-4b4f-a8b6-b2d97ebb83e6"
      },
      "source": [
        "plt.scatter(x,y)"
      ],
      "execution_count": 78,
      "outputs": [
        {
          "output_type": "execute_result",
          "data": {
            "text/plain": [
              "<matplotlib.collections.PathCollection at 0x7f44dd8d8750>"
            ]
          },
          "metadata": {},
          "execution_count": 78
        },
        {
          "output_type": "display_data",
          "data": {
            "image/png": "[encoded data removed]",
            "text/plain": [
              "<Figure size 432x288 with 1 Axes>"
            ]
          },
          "metadata": {
            "needs_background": "light"
          }
        }
      ]
    },
    {
      "cell_type": "code",
      "metadata": {
        "colab": {
          "base_uri": "https://localhost:8080/"
        },
        "id": "_dVNa9wHyQ6z",
        "outputId": "517480e0-af30-47d7-a0dc-f9f8ac434f1a"
      },
      "source": [
        "len(x)"
      ],
      "execution_count": 21,
      "outputs": [
        {
          "output_type": "execute_result",
          "data": {
            "text/plain": [
              "10000"
            ]
          },
          "metadata": {},
          "execution_count": 21
        }
      ]
    },
    {
      "cell_type": "code",
      "metadata": {
        "colab": {
          "base_uri": "https://localhost:8080/"
        },
        "id": "2oifEaGwyUdC",
        "outputId": "d38b4e1c-4096-41f2-8e21-b7783f035ac2"
      },
      "source": [
        "len(y)"
      ],
      "execution_count": 22,
      "outputs": [
        {
          "output_type": "execute_result",
          "data": {
            "text/plain": [
              "10000"
            ]
          },
          "metadata": {},
          "execution_count": 22
        }
      ]
    },
    {
      "cell_type": "code",
      "metadata": {
        "colab": {
          "base_uri": "https://localhost:8080/"
        },
        "id": "jI0AYM69yX5P",
        "outputId": "66f64c63-8cd8-4d83-875f-fd6b0e47d813"
      },
      "source": [
        "x.shape,y.shape"
      ],
      "execution_count": 9,
      "outputs": [
        {
          "output_type": "execute_result",
          "data": {
            "text/plain": [
              "((10000, 1), (10000, 1))"
            ]
          },
          "metadata": {},
          "execution_count": 9
        }
      ]
    },
    {
      "cell_type": "code",
      "metadata": {
        "id": "PuI6viI1ybVx"
      },
      "source": [
        "from keras.models import Sequential\n",
        "from keras.layers import Dense \n",
        "from tensorflow.keras.optimizers import Adam, SGD"
      ],
      "execution_count": 11,
      "outputs": []
    },
    {
      "cell_type": "code",
      "metadata": {
        "id": "Het9yYI2yrDR"
      },
      "source": [
        "model = Sequential()\n",
        "model.add(Dense(40, activation='relu', input_dim=1))\n",
        "model.add(Dense(100, activation='relu'))\n",
        "model.add(Dense(160, activation='relu'))\n",
        "model.add(Dense(100, activation='relu'))\n",
        "model.add(Dense(1))"
      ],
      "execution_count": 67,
      "outputs": []
    },
    {
      "cell_type": "code",
      "metadata": {
        "id": "j2na999G01Fg"
      },
      "source": [
        "model.compile(optimizer='rmsprop', loss='mse', metrics=['mae'])"
      ],
      "execution_count": 68,
      "outputs": []
    },
    {
      "cell_type": "code",
      "metadata": {
        "colab": {
          "base_uri": "https://localhost:8080/"
        },
        "id": "FSNHszsq0_Jx",
        "outputId": "9fb5d2a3-7071-44f9-8a7d-2ae6e1701e2d"
      },
      "source": [
        "model.summary()"
      ],
      "execution_count": 69,
      "outputs": [
        {
          "output_type": "stream",
          "name": "stdout",
          "text": [
            "Model: \"sequential_9\"\n",
            "_________________________________________________________________\n",
            "Layer (type)                 Output Shape              Param #   \n",
            "=================================================================\n",
            "dense_24 (Dense)             (None, 40)                80        \n",
            "_________________________________________________________________\n",
            "dense_25 (Dense)             (None, 100)               4100      \n",
            "_________________________________________________________________\n",
            "dense_26 (Dense)             (None, 160)               16160     \n",
            "_________________________________________________________________\n",
            "dense_27 (Dense)             (None, 100)               16100     \n",
            "_________________________________________________________________\n",
            "dense_28 (Dense)             (None, 1)                 101       \n",
            "=================================================================\n",
            "Total params: 36,541\n",
            "Trainable params: 36,541\n",
            "Non-trainable params: 0\n",
            "_________________________________________________________________\n"
          ]
        }
      ]
    },
    {
      "cell_type": "code",
      "metadata": {
        "colab": {
          "base_uri": "https://localhost:8080/"
        },
        "id": "eNm0JaVm1W2c",
        "outputId": "19ebf6da-408b-469d-ed85-070e27a5c7c2"
      },
      "source": [
        "history = model.fit(x,y, epochs=150)"
      ],
      "execution_count": 70,
      "outputs": [
        {
          "output_type": "stream",
          "name": "stdout",
          "text": [
            "Epoch 1/150\n",
            "313/313 [==============================] - 1s 2ms/step - loss: 983.0819 - mae: 23.4137\n",
            "Epoch 2/150\n",
            "313/313 [==============================] - 1s 2ms/step - loss: 627.9974 - mae: 21.0050\n",
            "Epoch 3/150\n",
            "313/313 [==============================] - 1s 2ms/step - loss: 612.4229 - mae: 20.7170\n",
            "Epoch 4/150\n",
            "313/313 [==============================] - 1s 2ms/step - loss: 604.9532 - mae: 20.6864\n",
            "Epoch 5/150\n",
            "313/313 [==============================] - 1s 2ms/step - loss: 594.1012 - mae: 20.4741\n",
            "Epoch 6/150\n",
            "313/313 [==============================] - 1s 2ms/step - loss: 593.9223 - mae: 20.4763\n",
            "Epoch 7/150\n",
            "313/313 [==============================] - 1s 2ms/step - loss: 585.7224 - mae: 20.3440\n",
            "Epoch 8/150\n",
            "313/313 [==============================] - 1s 2ms/step - loss: 583.3070 - mae: 20.3010\n",
            "Epoch 9/150\n",
            "313/313 [==============================] - 1s 2ms/step - loss: 574.9027 - mae: 20.1620\n",
            "Epoch 10/150\n",
            "313/313 [==============================] - 1s 2ms/step - loss: 567.7470 - mae: 20.0314\n",
            "Epoch 11/150\n",
            "313/313 [==============================] - 1s 2ms/step - loss: 567.7426 - mae: 20.0464\n",
            "Epoch 12/150\n",
            "313/313 [==============================] - 1s 2ms/step - loss: 558.0936 - mae: 19.8634\n",
            "Epoch 13/150\n",
            "313/313 [==============================] - 1s 2ms/step - loss: 551.9968 - mae: 19.7654\n",
            "Epoch 14/150\n",
            "313/313 [==============================] - 1s 2ms/step - loss: 543.0577 - mae: 19.5928\n",
            "Epoch 15/150\n",
            "313/313 [==============================] - 1s 2ms/step - loss: 533.1293 - mae: 19.3860\n",
            "Epoch 16/150\n",
            "313/313 [==============================] - 1s 2ms/step - loss: 521.0856 - mae: 19.1510\n",
            "Epoch 17/150\n",
            "313/313 [==============================] - 1s 2ms/step - loss: 503.4851 - mae: 18.8178\n",
            "Epoch 18/150\n",
            "313/313 [==============================] - 1s 2ms/step - loss: 482.4298 - mae: 18.4249\n",
            "Epoch 19/150\n",
            "313/313 [==============================] - 1s 2ms/step - loss: 446.8996 - mae: 17.5764\n",
            "Epoch 20/150\n",
            "313/313 [==============================] - 1s 2ms/step - loss: 410.7212 - mae: 16.7663\n",
            "Epoch 21/150\n",
            "313/313 [==============================] - 1s 2ms/step - loss: 376.7548 - mae: 15.9225\n",
            "Epoch 22/150\n",
            "313/313 [==============================] - 1s 2ms/step - loss: 357.3532 - mae: 15.4245\n",
            "Epoch 23/150\n",
            "313/313 [==============================] - 1s 2ms/step - loss: 334.9467 - mae: 14.8083\n",
            "Epoch 24/150\n",
            "313/313 [==============================] - 1s 2ms/step - loss: 320.2057 - mae: 14.5129\n",
            "Epoch 25/150\n",
            "313/313 [==============================] - 1s 2ms/step - loss: 314.9949 - mae: 14.3800\n",
            "Epoch 26/150\n",
            "313/313 [==============================] - 1s 2ms/step - loss: 311.0099 - mae: 14.2244\n",
            "Epoch 27/150\n",
            "313/313 [==============================] - 1s 2ms/step - loss: 307.5637 - mae: 14.1788\n",
            "Epoch 28/150\n",
            "313/313 [==============================] - 1s 2ms/step - loss: 297.5151 - mae: 13.9345\n",
            "Epoch 29/150\n",
            "313/313 [==============================] - 1s 2ms/step - loss: 294.4005 - mae: 13.8232\n",
            "Epoch 30/150\n",
            "313/313 [==============================] - 1s 2ms/step - loss: 289.9781 - mae: 13.7276\n",
            "Epoch 31/150\n",
            "313/313 [==============================] - 1s 2ms/step - loss: 281.7188 - mae: 13.4757\n",
            "Epoch 32/150\n",
            "313/313 [==============================] - 1s 2ms/step - loss: 286.6641 - mae: 13.6984\n",
            "Epoch 33/150\n",
            "313/313 [==============================] - 1s 2ms/step - loss: 276.6949 - mae: 13.3754\n",
            "Epoch 34/150\n",
            "313/313 [==============================] - 1s 2ms/step - loss: 279.3683 - mae: 13.5039\n",
            "Epoch 35/150\n",
            "313/313 [==============================] - 1s 2ms/step - loss: 275.3627 - mae: 13.2956\n",
            "Epoch 36/150\n",
            "313/313 [==============================] - 1s 2ms/step - loss: 271.8475 - mae: 13.2632\n",
            "Epoch 37/150\n",
            "313/313 [==============================] - 1s 2ms/step - loss: 271.1682 - mae: 13.2657\n",
            "Epoch 38/150\n",
            "313/313 [==============================] - 1s 2ms/step - loss: 263.8748 - mae: 13.1304\n",
            "Epoch 39/150\n",
            "313/313 [==============================] - 1s 2ms/step - loss: 265.3285 - mae: 13.1525\n",
            "Epoch 40/150\n",
            "313/313 [==============================] - 1s 2ms/step - loss: 261.2408 - mae: 13.0360\n",
            "Epoch 41/150\n",
            "313/313 [==============================] - 1s 2ms/step - loss: 256.7426 - mae: 12.8828\n",
            "Epoch 42/150\n",
            "313/313 [==============================] - 1s 2ms/step - loss: 260.1376 - mae: 13.0003\n",
            "Epoch 43/150\n",
            "313/313 [==============================] - 1s 2ms/step - loss: 252.4984 - mae: 12.6986\n",
            "Epoch 44/150\n",
            "313/313 [==============================] - 1s 2ms/step - loss: 255.7530 - mae: 12.8020\n",
            "Epoch 45/150\n",
            "313/313 [==============================] - 1s 2ms/step - loss: 245.0254 - mae: 12.5316\n",
            "Epoch 46/150\n",
            "313/313 [==============================] - 1s 2ms/step - loss: 245.6969 - mae: 12.5523\n",
            "Epoch 47/150\n",
            "313/313 [==============================] - 1s 2ms/step - loss: 244.8351 - mae: 12.5711\n",
            "Epoch 48/150\n",
            "313/313 [==============================] - 1s 2ms/step - loss: 245.1277 - mae: 12.5396\n",
            "Epoch 49/150\n",
            "313/313 [==============================] - 1s 2ms/step - loss: 240.6306 - mae: 12.4469\n",
            "Epoch 50/150\n",
            "313/313 [==============================] - 1s 2ms/step - loss: 244.4050 - mae: 12.5140\n",
            "Epoch 51/150\n",
            "313/313 [==============================] - 1s 2ms/step - loss: 239.7785 - mae: 12.3914\n",
            "Epoch 52/150\n",
            "313/313 [==============================] - 1s 2ms/step - loss: 235.7529 - mae: 12.2752\n",
            "Epoch 53/150\n",
            "313/313 [==============================] - 1s 2ms/step - loss: 237.9202 - mae: 12.3678\n",
            "Epoch 54/150\n",
            "313/313 [==============================] - 1s 2ms/step - loss: 236.5871 - mae: 12.3305\n",
            "Epoch 55/150\n",
            "313/313 [==============================] - 1s 2ms/step - loss: 234.5839 - mae: 12.2364\n",
            "Epoch 56/150\n",
            "313/313 [==============================] - 1s 2ms/step - loss: 236.2620 - mae: 12.3062\n",
            "Epoch 57/150\n",
            "313/313 [==============================] - 1s 2ms/step - loss: 233.3553 - mae: 12.2189\n",
            "Epoch 58/150\n",
            "313/313 [==============================] - 1s 2ms/step - loss: 227.1418 - mae: 12.0716\n",
            "Epoch 59/150\n",
            "313/313 [==============================] - 1s 2ms/step - loss: 225.1092 - mae: 12.0130\n",
            "Epoch 60/150\n",
            "313/313 [==============================] - 1s 2ms/step - loss: 229.7543 - mae: 12.1413\n",
            "Epoch 61/150\n",
            "313/313 [==============================] - 1s 2ms/step - loss: 224.4155 - mae: 11.9921\n",
            "Epoch 62/150\n",
            "313/313 [==============================] - 1s 2ms/step - loss: 224.4803 - mae: 12.0114\n",
            "Epoch 63/150\n",
            "313/313 [==============================] - 1s 2ms/step - loss: 221.4839 - mae: 11.9015\n",
            "Epoch 64/150\n",
            "313/313 [==============================] - 1s 2ms/step - loss: 218.0262 - mae: 11.8211\n",
            "Epoch 65/150\n",
            "313/313 [==============================] - 1s 2ms/step - loss: 214.8904 - mae: 11.7039\n",
            "Epoch 66/150\n",
            "313/313 [==============================] - 1s 2ms/step - loss: 216.9626 - mae: 11.7357\n",
            "Epoch 67/150\n",
            "313/313 [==============================] - 1s 2ms/step - loss: 215.8131 - mae: 11.7229\n",
            "Epoch 68/150\n",
            "313/313 [==============================] - 1s 2ms/step - loss: 212.4451 - mae: 11.6689\n",
            "Epoch 69/150\n",
            "313/313 [==============================] - 1s 2ms/step - loss: 212.5090 - mae: 11.6563\n",
            "Epoch 70/150\n",
            "313/313 [==============================] - 1s 2ms/step - loss: 215.7684 - mae: 11.7323\n",
            "Epoch 71/150\n",
            "313/313 [==============================] - 1s 2ms/step - loss: 213.5094 - mae: 11.6256\n",
            "Epoch 72/150\n",
            "313/313 [==============================] - 1s 2ms/step - loss: 209.1474 - mae: 11.5291\n",
            "Epoch 73/150\n",
            "313/313 [==============================] - 1s 2ms/step - loss: 209.9272 - mae: 11.6165\n",
            "Epoch 74/150\n",
            "313/313 [==============================] - 1s 2ms/step - loss: 207.5385 - mae: 11.4844\n",
            "Epoch 75/150\n",
            "313/313 [==============================] - 1s 2ms/step - loss: 203.2752 - mae: 11.4125\n",
            "Epoch 76/150\n",
            "313/313 [==============================] - 1s 2ms/step - loss: 205.1226 - mae: 11.4163\n",
            "Epoch 77/150\n",
            "313/313 [==============================] - 1s 2ms/step - loss: 197.9683 - mae: 11.2537\n",
            "Epoch 78/150\n",
            "313/313 [==============================] - 1s 2ms/step - loss: 200.1731 - mae: 11.2809\n",
            "Epoch 79/150\n",
            "313/313 [==============================] - 1s 2ms/step - loss: 197.2706 - mae: 11.2044\n",
            "Epoch 80/150\n",
            "313/313 [==============================] - 1s 2ms/step - loss: 195.0046 - mae: 11.1172\n",
            "Epoch 81/150\n",
            "313/313 [==============================] - 1s 2ms/step - loss: 195.7193 - mae: 11.1376\n",
            "Epoch 82/150\n",
            "313/313 [==============================] - 1s 2ms/step - loss: 195.6124 - mae: 11.1452\n",
            "Epoch 83/150\n",
            "313/313 [==============================] - 1s 2ms/step - loss: 189.3880 - mae: 11.0233\n",
            "Epoch 84/150\n",
            "313/313 [==============================] - 1s 2ms/step - loss: 193.4924 - mae: 11.1151\n",
            "Epoch 85/150\n",
            "313/313 [==============================] - 1s 2ms/step - loss: 190.7441 - mae: 11.0098\n",
            "Epoch 86/150\n",
            "313/313 [==============================] - 1s 2ms/step - loss: 188.8909 - mae: 10.9861\n",
            "Epoch 87/150\n",
            "313/313 [==============================] - 1s 2ms/step - loss: 187.8235 - mae: 10.9283\n",
            "Epoch 88/150\n",
            "313/313 [==============================] - 1s 2ms/step - loss: 187.1132 - mae: 10.9377\n",
            "Epoch 89/150\n",
            "313/313 [==============================] - 1s 2ms/step - loss: 186.8828 - mae: 10.8999\n",
            "Epoch 90/150\n",
            "313/313 [==============================] - 1s 2ms/step - loss: 190.4197 - mae: 11.0639\n",
            "Epoch 91/150\n",
            "313/313 [==============================] - 1s 2ms/step - loss: 187.8542 - mae: 10.9228\n",
            "Epoch 92/150\n",
            "313/313 [==============================] - 1s 2ms/step - loss: 183.2381 - mae: 10.8268\n",
            "Epoch 93/150\n",
            "313/313 [==============================] - 1s 2ms/step - loss: 188.7359 - mae: 10.9974\n",
            "Epoch 94/150\n",
            "313/313 [==============================] - 1s 2ms/step - loss: 186.3046 - mae: 10.9012\n",
            "Epoch 95/150\n",
            "313/313 [==============================] - 1s 2ms/step - loss: 185.3571 - mae: 10.9173\n",
            "Epoch 96/150\n",
            "313/313 [==============================] - 1s 2ms/step - loss: 188.6791 - mae: 10.9914\n",
            "Epoch 97/150\n",
            "313/313 [==============================] - 1s 2ms/step - loss: 185.3656 - mae: 10.8886\n",
            "Epoch 98/150\n",
            "313/313 [==============================] - 1s 2ms/step - loss: 188.5261 - mae: 10.9947\n",
            "Epoch 99/150\n",
            "313/313 [==============================] - 1s 2ms/step - loss: 185.9155 - mae: 10.8796\n",
            "Epoch 100/150\n",
            "313/313 [==============================] - 1s 2ms/step - loss: 186.8318 - mae: 10.9392\n",
            "Epoch 101/150\n",
            "313/313 [==============================] - 1s 2ms/step - loss: 185.8202 - mae: 10.9196\n",
            "Epoch 102/150\n",
            "313/313 [==============================] - 1s 2ms/step - loss: 185.0216 - mae: 10.8624\n",
            "Epoch 103/150\n",
            "313/313 [==============================] - 1s 2ms/step - loss: 189.6521 - mae: 11.0069\n",
            "Epoch 104/150\n",
            "313/313 [==============================] - 1s 2ms/step - loss: 184.8731 - mae: 10.8712\n",
            "Epoch 105/150\n",
            "313/313 [==============================] - 1s 2ms/step - loss: 186.1466 - mae: 10.9178\n",
            "Epoch 106/150\n",
            "313/313 [==============================] - 1s 2ms/step - loss: 187.0643 - mae: 10.9718\n",
            "Epoch 107/150\n",
            "313/313 [==============================] - 1s 2ms/step - loss: 183.9929 - mae: 10.8420\n",
            "Epoch 108/150\n",
            "313/313 [==============================] - 1s 2ms/step - loss: 182.2087 - mae: 10.7942\n",
            "Epoch 109/150\n",
            "313/313 [==============================] - 1s 2ms/step - loss: 183.7657 - mae: 10.8370\n",
            "Epoch 110/150\n",
            "313/313 [==============================] - 1s 2ms/step - loss: 184.6089 - mae: 10.8294\n",
            "Epoch 111/150\n",
            "313/313 [==============================] - 1s 2ms/step - loss: 183.9869 - mae: 10.8209\n",
            "Epoch 112/150\n",
            "313/313 [==============================] - 1s 2ms/step - loss: 186.9052 - mae: 10.9312\n",
            "Epoch 113/150\n",
            "313/313 [==============================] - 1s 2ms/step - loss: 185.3102 - mae: 10.8932\n",
            "Epoch 114/150\n",
            "313/313 [==============================] - 1s 2ms/step - loss: 180.9407 - mae: 10.7197\n",
            "Epoch 115/150\n",
            "313/313 [==============================] - 1s 2ms/step - loss: 184.9845 - mae: 10.8472\n",
            "Epoch 116/150\n",
            "313/313 [==============================] - 1s 2ms/step - loss: 182.5035 - mae: 10.8195\n",
            "Epoch 117/150\n",
            "313/313 [==============================] - 1s 2ms/step - loss: 184.7865 - mae: 10.8722\n",
            "Epoch 118/150\n",
            "313/313 [==============================] - 1s 2ms/step - loss: 180.9834 - mae: 10.7468\n",
            "Epoch 119/150\n",
            "313/313 [==============================] - 1s 2ms/step - loss: 183.0957 - mae: 10.7671\n",
            "Epoch 120/150\n",
            "313/313 [==============================] - 1s 2ms/step - loss: 184.6098 - mae: 10.8660\n",
            "Epoch 121/150\n",
            "313/313 [==============================] - 1s 2ms/step - loss: 185.1594 - mae: 10.8332\n",
            "Epoch 122/150\n",
            "313/313 [==============================] - 1s 2ms/step - loss: 180.0813 - mae: 10.7624\n",
            "Epoch 123/150\n",
            "313/313 [==============================] - 1s 2ms/step - loss: 180.7254 - mae: 10.7643\n",
            "Epoch 124/150\n",
            "313/313 [==============================] - 1s 2ms/step - loss: 180.1368 - mae: 10.7116\n",
            "Epoch 125/150\n",
            "313/313 [==============================] - 1s 2ms/step - loss: 181.2592 - mae: 10.7307\n",
            "Epoch 126/150\n",
            "313/313 [==============================] - 1s 2ms/step - loss: 181.4756 - mae: 10.7671\n",
            "Epoch 127/150\n",
            "313/313 [==============================] - 1s 2ms/step - loss: 182.3579 - mae: 10.7915\n",
            "Epoch 128/150\n",
            "313/313 [==============================] - 1s 2ms/step - loss: 178.6171 - mae: 10.6257\n",
            "Epoch 129/150\n",
            "313/313 [==============================] - 1s 2ms/step - loss: 181.2265 - mae: 10.7623\n",
            "Epoch 130/150\n",
            "313/313 [==============================] - 1s 2ms/step - loss: 181.0557 - mae: 10.7397\n",
            "Epoch 131/150\n",
            "313/313 [==============================] - 1s 2ms/step - loss: 180.2990 - mae: 10.7227\n",
            "Epoch 132/150\n",
            "313/313 [==============================] - 1s 2ms/step - loss: 179.6496 - mae: 10.7141\n",
            "Epoch 133/150\n",
            "313/313 [==============================] - 1s 2ms/step - loss: 181.0571 - mae: 10.7071\n",
            "Epoch 134/150\n",
            "313/313 [==============================] - 1s 2ms/step - loss: 179.7547 - mae: 10.6999\n",
            "Epoch 135/150\n",
            "313/313 [==============================] - 1s 2ms/step - loss: 178.9621 - mae: 10.6718\n",
            "Epoch 136/150\n",
            "313/313 [==============================] - 1s 2ms/step - loss: 179.7012 - mae: 10.7308\n",
            "Epoch 137/150\n",
            "313/313 [==============================] - 1s 2ms/step - loss: 180.0693 - mae: 10.6808\n",
            "Epoch 138/150\n",
            "313/313 [==============================] - 1s 2ms/step - loss: 179.1319 - mae: 10.6937\n",
            "Epoch 139/150\n",
            "313/313 [==============================] - 1s 2ms/step - loss: 180.7375 - mae: 10.7288\n",
            "Epoch 140/150\n",
            "313/313 [==============================] - 1s 2ms/step - loss: 178.1751 - mae: 10.6359\n",
            "Epoch 141/150\n",
            "313/313 [==============================] - 1s 2ms/step - loss: 179.1641 - mae: 10.7229\n",
            "Epoch 142/150\n",
            "313/313 [==============================] - 1s 2ms/step - loss: 176.9335 - mae: 10.6371\n",
            "Epoch 143/150\n",
            "313/313 [==============================] - 1s 2ms/step - loss: 175.6316 - mae: 10.5769\n",
            "Epoch 144/150\n",
            "313/313 [==============================] - 1s 2ms/step - loss: 180.3087 - mae: 10.7041\n",
            "Epoch 145/150\n",
            "313/313 [==============================] - 1s 2ms/step - loss: 178.0815 - mae: 10.6357\n",
            "Epoch 146/150\n",
            "313/313 [==============================] - 1s 2ms/step - loss: 177.4859 - mae: 10.6835\n",
            "Epoch 147/150\n",
            "313/313 [==============================] - 1s 2ms/step - loss: 177.4618 - mae: 10.6141\n",
            "Epoch 148/150\n",
            "313/313 [==============================] - 1s 2ms/step - loss: 178.2494 - mae: 10.6168\n",
            "Epoch 149/150\n",
            "313/313 [==============================] - 1s 2ms/step - loss: 178.4116 - mae: 10.6719\n",
            "Epoch 150/150\n",
            "313/313 [==============================] - 1s 2ms/step - loss: 178.0174 - mae: 10.6597\n"
          ]
        }
      ]
    },
    {
      "cell_type": "code",
      "metadata": {
        "id": "PLo5kRRW2AQq"
      },
      "source": [
        "model.save('weight_pre.h5')"
      ],
      "execution_count": 71,
      "outputs": []
    },
    {
      "cell_type": "code",
      "metadata": {
        "colab": {
          "base_uri": "https://localhost:8080/"
        },
        "id": "5HZyJyFb9-jQ",
        "outputId": "c6f8c787-c323-4510-ff0f-37524e194db1"
      },
      "source": [
        "model.predict([[200]])"
      ],
      "execution_count": 72,
      "outputs": [
        {
          "output_type": "execute_result",
          "data": {
            "text/plain": [
              "array([[890.1228]], dtype=float32)"
            ]
          },
          "metadata": {},
          "execution_count": 72
        }
      ]
    },
    {
      "cell_type": "code",
      "metadata": {
        "colab": {
          "base_uri": "https://localhost:8080/"
        },
        "id": "iEiBa9tO-Ven",
        "outputId": "65fe7d60-a691-4f18-b88f-912f07932304"
      },
      "source": [
        "model.evaluate(x,y)"
      ],
      "execution_count": 76,
      "outputs": [
        {
          "output_type": "stream",
          "name": "stdout",
          "text": [
            "313/313 [==============================] - 1s 1ms/step - loss: 222.0584 - mae: 12.0224\n"
          ]
        },
        {
          "output_type": "execute_result",
          "data": {
            "text/plain": [
              "[222.05838012695312, 12.0224027633667]"
            ]
          },
          "metadata": {},
          "execution_count": 76
        }
      ]
    },
    {
      "cell_type": "code",
      "metadata": {
        "id": "CzkUmc1MBVLJ"
      },
      "source": [
        ""
      ],
      "execution_count": null,
      "outputs": []
    }
  ]
}